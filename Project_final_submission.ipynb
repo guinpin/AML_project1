{
 "cells": [
  {
   "cell_type": "markdown",
   "metadata": {},
   "source": [
    "### Some functions for preproccessing images"
   ]
  },
  {
   "cell_type": "code",
   "execution_count": 116,
   "metadata": {
    "collapsed": true
   },
   "outputs": [],
   "source": [
    "from imutils import paths\n",
    "import numpy as np\n",
    "import os\n",
    "import imutils\n",
    "import cv2\n",
    "import random\n",
    "from math import sqrt\n",
    "from operator import itemgetter"
   ]
  },
  {
   "cell_type": "code",
   "execution_count": 117,
   "metadata": {
    "collapsed": true
   },
   "outputs": [],
   "source": [
    "def img_to_feature_vector(image, size=(320, 240)):\n",
    "    feature_vector = cv2.resize(image, size).flatten()\n",
    "    return feature_vector"
   ]
  },
  {
   "cell_type": "code",
   "execution_count": 118,
   "metadata": {
    "collapsed": true
   },
   "outputs": [],
   "source": [
    "def img_color_histogram(image, bins=(8, 8, 8)):\n",
    "    hsv = cv2.cvtColor(image, cv2.COLOR_BGR2HSV)\n",
    "    hist = cv2.calcHist([hsv], [0, 1, 2], None, bins, [0, 180, 0, 256, 0, 256])\n",
    " \n",
    "    if imutils.is_cv2():\n",
    "        hist = cv2.normalize(hist)\n",
    " \n",
    "    else:\n",
    "        cv2.normalize(hist, hist)\n",
    "    \n",
    "    histogram = hist.flatten()\n",
    "    \n",
    "    return histogram"
   ]
  },
  {
   "cell_type": "code",
   "execution_count": 119,
   "metadata": {
    "collapsed": true
   },
   "outputs": [],
   "source": [
    "def load_images(path_to_data):\n",
    "    imagePaths = list(paths.list_images(path_to_data))\n",
    "    print(len(imagePaths), \" images are collected\")\n",
    "    \n",
    "    return(imagePaths)"
   ]
  },
  {
   "cell_type": "code",
   "execution_count": 120,
   "metadata": {
    "collapsed": true
   },
   "outputs": [],
   "source": [
    "def img_to_vectors(imagePaths):\n",
    "    pix_images = []\n",
    "    hist_images = []\n",
    "    labels = []\n",
    "    \n",
    "    for (i, imagePath) in enumerate(imagePaths):\n",
    "\n",
    "        image = cv2.imread(imagePath)\n",
    "        label = imagePath.split(os.path.sep)[-2].split(\"/\")[0]\n",
    "\n",
    "        pixels = img_to_feature_vector(image)\n",
    "        hist = img_color_histogram(image)\n",
    "\n",
    "        pix_images.append(pixels)\n",
    "        hist_images.append(hist)\n",
    "        labels.append(label)\n",
    " \n",
    "    # show an update every 1,000 images\n",
    "    if i > 0 and i % 1000 == 0:\n",
    "        print(i, \"/\", len(imagePaths), \"of images are proccessed\")\n",
    "        \n",
    "    return(pix_images, hist_images, labels)\n"
   ]
  },
  {
   "cell_type": "markdown",
   "metadata": {},
   "source": [
    "### Functions for test and train splitting"
   ]
  },
  {
   "cell_type": "code",
   "execution_count": 121,
   "metadata": {
    "collapsed": true
   },
   "outputs": [],
   "source": [
    "def join_set_labels(dataset, labels):\n",
    "    \n",
    "    for i in range(len(dataset)):\n",
    "        dataset[i].append(labels[i])\n",
    "    \n",
    "    return(dataset)"
   ]
  },
  {
   "cell_type": "code",
   "execution_count": 122,
   "metadata": {
    "collapsed": true
   },
   "outputs": [],
   "source": [
    "def train_test_split(dataset, labels, test_size = 0.25):\n",
    "    \n",
    "    training_set = []\n",
    "    training_labels = []\n",
    "    \n",
    "    test_set = []\n",
    "    test_labels = []\n",
    "    \n",
    "    random.seed()\n",
    "    \n",
    "    indexes = np.arange(len(dataset))\n",
    "    np.random.shuffle(indexes)\n",
    "    for i in indexes:\n",
    "        \n",
    "        probab = random.random()\n",
    "\n",
    "        if probab > test_size:\n",
    "            training_set.append(dataset[i])\n",
    "            training_labels.append(labels[i])\n",
    "        \n",
    "        else:\n",
    "            test_set.append(dataset[i])\n",
    "            test_labels.append(labels[i])\n",
    "            \n",
    "    return(training_set, training_labels, test_set, test_labels)"
   ]
  },
  {
   "cell_type": "markdown",
   "metadata": {},
   "source": [
    "### Accuracy counting"
   ]
  },
  {
   "cell_type": "code",
   "execution_count": 123,
   "metadata": {
    "collapsed": true
   },
   "outputs": [],
   "source": [
    "def get_accuracy(predicted_classes, testLabels):\n",
    "    true = 0\n",
    "    for i in range(len(testLabels)):\n",
    "        if testLabels[i] == predicted_classes[i]:\n",
    "            true += 1\n",
    "\n",
    "    accuracy = true/len(testLabels)\n",
    "    print(\"Accuracy: \", accuracy)"
   ]
  },
  {
   "cell_type": "markdown",
   "metadata": {},
   "source": [
    "### KNN Implementation"
   ]
  },
  {
   "cell_type": "code",
   "execution_count": 124,
   "metadata": {
    "collapsed": true
   },
   "outputs": [],
   "source": [
    "def get_labels(training_set):\n",
    "    return list(set([c[-1] for c in training_set]))\n",
    "\n",
    "def find_neighbors(distances, k):\n",
    "    return distances[0:k]\n",
    "\n",
    "def predict_label(neighbors, classes):\n",
    "    votes = [0] * len(classes)\n",
    "\n",
    "    for instance in neighbors:\n",
    "        for ctr, c in enumerate(classes):\n",
    "            if instance[-2] == c:\n",
    "                votes[ctr] += 1\n",
    "\n",
    "    return max(enumerate(votes), key=itemgetter(1))\n",
    "\n",
    "def dataset_to_float(data_set, mode):\n",
    "    new_set = []\n",
    "    try:\n",
    "        if mode == 'training':\n",
    "            for data in data_set:\n",
    "                new_set.append([float(x) for x in data[:len(data)-1]] + [data[len(data)-1]])\n",
    "\n",
    "        elif mode == 'test':\n",
    "            for data in data_set:\n",
    "                new_set.append([float(x) for x in data])\n",
    "\n",
    "        else:\n",
    "            print('Invalid mode, program will exit.')\n",
    "            exit()\n",
    "\n",
    "        return new_set\n",
    "\n",
    "    except ValueError as v:\n",
    "        print(v)\n",
    "        print('Invalid data set format, program will exit.')\n",
    "        exit()"
   ]
  },
  {
   "cell_type": "code",
   "execution_count": 125,
   "metadata": {
    "collapsed": true
   },
   "outputs": [],
   "source": [
    "def knn(training_set, test_set, k):\n",
    "    distances = []\n",
    "    dist = 0\n",
    "    limit = len(training_set[0]) - 1\n",
    "\n",
    "    # find labeles for training set\n",
    "    \n",
    "    labels = get_labels(training_set)\n",
    "\n",
    "    predicted_labels = []\n",
    "    \n",
    "    try:\n",
    "        for test_instance in test_set:\n",
    "\n",
    "            for row in training_set:\n",
    "                for x, y in zip(row[:limit], test_instance):\n",
    "                    dist += (x-y) * (x-y)\n",
    "                distances.append(row + [sqrt(dist)])\n",
    "                dist = 0\n",
    "\n",
    "            distances.sort(key=itemgetter(len(distances[0])-1))\n",
    "\n",
    "            neighbors = find_neighbors(distances, k)\n",
    "            \n",
    "            index, value = predict_label(neighbors, labels)\n",
    "\n",
    "            #print('Predicted label is : ' + classes[index])\n",
    "            #print('Number of votes : ' + str(value) + '/' + str(k))\n",
    "\n",
    "            predicted_labels.append(labels[index])\n",
    "\n",
    "            distances.clear()\n",
    "            \n",
    "        return(predicted_labels)\n",
    "\n",
    "    except Exception as e:\n",
    "        print(e)"
   ]
  },
  {
   "cell_type": "markdown",
   "metadata": {},
   "source": [
    "### Experiments\n",
    "\n",
    "#### Experiment 1. Flowers dataset (https://www.kaggle.com/alxmamaev/flowers-recognition)\n",
    "##### Step 1. Preproccessing"
   ]
  },
  {
   "cell_type": "code",
   "execution_count": 126,
   "metadata": {},
   "outputs": [
    {
     "name": "stdout",
     "output_type": "stream",
     "text": [
      "4323  images are collected\n"
     ]
    }
   ],
   "source": [
    "path_to_data = \"flowers\"\n",
    "\n",
    "imagePaths = load_images(path_to_data)"
   ]
  },
  {
   "cell_type": "code",
   "execution_count": 127,
   "metadata": {
    "collapsed": true
   },
   "outputs": [],
   "source": [
    "pix_images, hist_images, labels = img_to_vectors(imagePaths)"
   ]
  },
  {
   "cell_type": "markdown",
   "metadata": {},
   "source": [
    "##### Step 2. Split to TRAIN and TEST"
   ]
  },
  {
   "cell_type": "code",
   "execution_count": 129,
   "metadata": {
    "collapsed": true
   },
   "outputs": [],
   "source": [
    "training_set, training_labels, test_set, test_labels = train_test_split(hist_images, labels)"
   ]
  },
  {
   "cell_type": "markdown",
   "metadata": {},
   "source": [
    "##### Step 3. Apply KNN"
   ]
  },
  {
   "cell_type": "code",
   "execution_count": 130,
   "metadata": {
    "collapsed": true
   },
   "outputs": [],
   "source": [
    "training = dataset_to_float(training_set, 'training')\n",
    "test = dataset_to_float(test_set, 'test')"
   ]
  },
  {
   "cell_type": "code",
   "execution_count": 131,
   "metadata": {
    "collapsed": true
   },
   "outputs": [],
   "source": [
    "training = join_set_labels(training, training_labels)"
   ]
  },
  {
   "cell_type": "code",
   "execution_count": 148,
   "metadata": {},
   "outputs": [
    {
     "name": "stdout",
     "output_type": "stream",
     "text": [
      "Finished\n"
     ]
    }
   ],
   "source": [
    "predicted_classes_by_hist = knn(training, test, 17)\n",
    "print('Finished')"
   ]
  },
  {
   "cell_type": "markdown",
   "metadata": {},
   "source": [
    "#### Calculate accuracy"
   ]
  },
  {
   "cell_type": "code",
   "execution_count": 149,
   "metadata": {},
   "outputs": [
    {
     "name": "stdout",
     "output_type": "stream",
     "text": [
      "Accuracy:  0.4516423357664234\n"
     ]
    }
   ],
   "source": [
    "get_accuracy(predicted_classes_by_hist, test_labels)"
   ]
  },
  {
   "cell_type": "markdown",
   "metadata": {},
   "source": [
    "##### Step 4. Apply KNN from SKlearn"
   ]
  },
  {
   "cell_type": "code",
   "execution_count": 147,
   "metadata": {},
   "outputs": [
    {
     "name": "stdout",
     "output_type": "stream",
     "text": [
      "Accuracy:  0.460766423358\n"
     ]
    }
   ],
   "source": [
    "from sklearn.neighbors import KNeighborsClassifier\n",
    "\n",
    "model = KNeighborsClassifier(n_neighbors=17, n_jobs=-1)\n",
    "\n",
    "model.fit(training_set, training_labels)\n",
    "acc = model.score(test_set, test_labels)\n",
    "\n",
    "print(\"Accuracy: \", acc)"
   ]
  },
  {
   "cell_type": "markdown",
   "metadata": {
    "collapsed": true
   },
   "source": [
    "#### Experiment 2.1. Fruits dataset (https://www.kaggle.com/moltean/fruits )\n",
    "##### Step 1. Preproccessing"
   ]
  },
  {
   "cell_type": "code",
   "execution_count": 13,
   "metadata": {},
   "outputs": [
    {
     "name": "stdout",
     "output_type": "stream",
     "text": [
      "5376  images are collected\n"
     ]
    }
   ],
   "source": [
    "path_to_data = \"fruits/Training\"\n",
    "\n",
    "imagePaths = load_images(path_to_data)"
   ]
  },
  {
   "cell_type": "code",
   "execution_count": 16,
   "metadata": {
    "collapsed": true
   },
   "outputs": [],
   "source": [
    "pix_images, hist_images, labels = img_to_vectors(imagePaths)"
   ]
  },
  {
   "cell_type": "markdown",
   "metadata": {},
   "source": [
    "##### Step 2. Split to TRAIN and TEST"
   ]
  },
  {
   "cell_type": "code",
   "execution_count": 17,
   "metadata": {
    "collapsed": true
   },
   "outputs": [],
   "source": [
    "training_set, training_labels, test_set, test_labels = train_test_split(hist_images, labels)"
   ]
  },
  {
   "cell_type": "markdown",
   "metadata": {},
   "source": [
    "##### Step 3. Apply KNN"
   ]
  },
  {
   "cell_type": "code",
   "execution_count": 18,
   "metadata": {
    "collapsed": true
   },
   "outputs": [],
   "source": [
    "training = dataset_to_float(training_set, 'training')\n",
    "test = dataset_to_float(test_set, 'test')"
   ]
  },
  {
   "cell_type": "code",
   "execution_count": 19,
   "metadata": {
    "collapsed": true
   },
   "outputs": [],
   "source": [
    "training = join_set_labels(training, training_labels)"
   ]
  },
  {
   "cell_type": "code",
   "execution_count": 22,
   "metadata": {},
   "outputs": [
    {
     "name": "stdout",
     "output_type": "stream",
     "text": [
      "Finished\n"
     ]
    }
   ],
   "source": [
    "predicted_classes_by_hist = knn(training, test, 8)\n",
    "print('Finished')"
   ]
  },
  {
   "cell_type": "markdown",
   "metadata": {},
   "source": [
    "#### Calculate accuracy"
   ]
  },
  {
   "cell_type": "code",
   "execution_count": 24,
   "metadata": {},
   "outputs": [
    {
     "name": "stdout",
     "output_type": "stream",
     "text": [
      "Accuracy:  1.0\n"
     ]
    }
   ],
   "source": [
    "get_accuracy(predicted_classes_by_hist, test_labels)"
   ]
  },
  {
   "cell_type": "markdown",
   "metadata": {},
   "source": [
    "##### Step 4. Apply KNN from SKlearn"
   ]
  },
  {
   "cell_type": "code",
   "execution_count": 25,
   "metadata": {},
   "outputs": [
    {
     "name": "stdout",
     "output_type": "stream",
     "text": [
      "Accuracy:  1.0\n"
     ]
    }
   ],
   "source": [
    "from sklearn.neighbors import KNeighborsClassifier\n",
    "\n",
    "model = KNeighborsClassifier(n_neighbors=8, n_jobs=-1)\n",
    "\n",
    "model.fit(training_set, training_labels)\n",
    "acc = model.score(test_set, test_labels)\n",
    "\n",
    "print(\"Accuracy: \", acc)"
   ]
  },
  {
   "cell_type": "markdown",
   "metadata": {},
   "source": [
    "#### Experiment 2.2. Fruits dataset (http://www.vicos.si/Downloads/FIDS30)\n",
    "##### Step 1. Preproccessing"
   ]
  },
  {
   "cell_type": "code",
   "execution_count": 165,
   "metadata": {},
   "outputs": [
    {
     "name": "stdout",
     "output_type": "stream",
     "text": [
      "369  images are collected\n"
     ]
    }
   ],
   "source": [
    "path_to_data = \"FIDS301\"\n",
    "\n",
    "imagePaths = load_images(path_to_data)"
   ]
  },
  {
   "cell_type": "code",
   "execution_count": 166,
   "metadata": {
    "collapsed": true
   },
   "outputs": [],
   "source": [
    "pix_images, hist_images, labels = img_to_vectors(imagePaths)"
   ]
  },
  {
   "cell_type": "markdown",
   "metadata": {},
   "source": [
    "##### Step 2. Split to TRAIN and TEST"
   ]
  },
  {
   "cell_type": "code",
   "execution_count": 167,
   "metadata": {
    "collapsed": true
   },
   "outputs": [],
   "source": [
    "training_set, training_labels, test_set, test_labels = train_test_split(hist_images, labels)"
   ]
  },
  {
   "cell_type": "markdown",
   "metadata": {},
   "source": [
    "##### Step 3. Apply KNN"
   ]
  },
  {
   "cell_type": "code",
   "execution_count": 168,
   "metadata": {
    "collapsed": true
   },
   "outputs": [],
   "source": [
    "training = dataset_to_float(training_set, 'training')\n",
    "test = dataset_to_float(test_set, 'test')"
   ]
  },
  {
   "cell_type": "code",
   "execution_count": 169,
   "metadata": {
    "collapsed": true
   },
   "outputs": [],
   "source": [
    "training = join_set_labels(training, training_labels)"
   ]
  },
  {
   "cell_type": "code",
   "execution_count": 182,
   "metadata": {},
   "outputs": [
    {
     "name": "stdout",
     "output_type": "stream",
     "text": [
      "Finished\n"
     ]
    }
   ],
   "source": [
    "predicted_classes_by_hist = knn(training, test, 6)\n",
    "print('Finished')"
   ]
  },
  {
   "cell_type": "markdown",
   "metadata": {},
   "source": [
    "#### Calculate accuracy"
   ]
  },
  {
   "cell_type": "code",
   "execution_count": 185,
   "metadata": {},
   "outputs": [
    {
     "name": "stdout",
     "output_type": "stream",
     "text": [
      "Accuracy:  0.5959595959595959\n"
     ]
    }
   ],
   "source": [
    "get_accuracy(predicted_classes_by_hist, test_labels)"
   ]
  },
  {
   "cell_type": "markdown",
   "metadata": {},
   "source": [
    "##### Step 4. Apply KNN from SKlearn"
   ]
  },
  {
   "cell_type": "code",
   "execution_count": 186,
   "metadata": {},
   "outputs": [
    {
     "name": "stdout",
     "output_type": "stream",
     "text": [
      "Accuracy:  0.565656565657\n"
     ]
    }
   ],
   "source": [
    "from sklearn.neighbors import KNeighborsClassifier\n",
    "\n",
    "model = KNeighborsClassifier(n_neighbors=6)\n",
    "\n",
    "model.fit(training_set, training_labels)\n",
    "acc = model.score(test_set, test_labels)\n",
    "\n",
    "print(\"Accuracy: \", acc)"
   ]
  },
  {
   "cell_type": "markdown",
   "metadata": {},
   "source": [
    "#### Experiment 3. Audio Cats and Dogs (https://www.kaggle.com/mmoreaux/audio-cats-and-dogs )\n",
    "##### Step 1. Preproccessing"
   ]
  },
  {
   "cell_type": "code",
   "execution_count": 84,
   "metadata": {
    "collapsed": true
   },
   "outputs": [],
   "source": [
    "from scipy.io.wavfile import read\n",
    "import numpy as np\n",
    "import wave, os, glob\n",
    "import csv"
   ]
  },
  {
   "cell_type": "code",
   "execution_count": 85,
   "metadata": {
    "collapsed": true
   },
   "outputs": [],
   "source": [
    "path = 'cats_dogs'\n",
    "\n",
    "cat_dog_files = []\n",
    "for filename in glob.glob(os.path.join(path, '*.wav')):\n",
    "    cat_dog_files.append(filename)\n",
    "\n",
    "data = []\n",
    "labels = []\n",
    "    \n",
    "for file in cat_dog_files:\n",
    "    \n",
    "    if file.find(\"cats_dogs/cat_\") != -1:\n",
    "        label = \"cat\"\n",
    "    else:\n",
    "        label = \"dog\"\n",
    "    \n",
    "    a = read(file)\n",
    "    sound = np.array(a[1],dtype=float)\n",
    "    data_example = []\n",
    "    data_example.append(np.mean(sound))\n",
    "    data_example.append(np.median(sound))\n",
    "    data_example.append(np.min(sound))\n",
    "    data_example.append(np.max(sound))\n",
    "    data_example.append(np.std(sound))\n",
    "    labels.append(label)\n",
    "    \n",
    "    data.append(data_example)"
   ]
  },
  {
   "cell_type": "code",
   "execution_count": 86,
   "metadata": {
    "collapsed": true
   },
   "outputs": [],
   "source": [
    "cat_dog_file = open('cat_dog_file.csv', 'w')\n",
    "with cat_dog_file:\n",
    "    writer = csv.writer(cat_dog_file)\n",
    "    writer.writerows(data)"
   ]
  },
  {
   "cell_type": "markdown",
   "metadata": {},
   "source": [
    "##### Step 2. Split to TRAIN and TEST"
   ]
  },
  {
   "cell_type": "code",
   "execution_count": 87,
   "metadata": {
    "collapsed": true
   },
   "outputs": [],
   "source": [
    "training_set, training_labels, test_set, test_labels = train_test_split(data, labels)"
   ]
  },
  {
   "cell_type": "code",
   "execution_count": 89,
   "metadata": {
    "collapsed": true
   },
   "outputs": [],
   "source": [
    "training = dataset_to_float(training_set, 'training')\n",
    "test = dataset_to_float(test_set, 'test')"
   ]
  },
  {
   "cell_type": "code",
   "execution_count": 90,
   "metadata": {
    "collapsed": true
   },
   "outputs": [],
   "source": [
    "training = join_set_labels(training, training_labels)"
   ]
  },
  {
   "cell_type": "code",
   "execution_count": 105,
   "metadata": {},
   "outputs": [
    {
     "name": "stdout",
     "output_type": "stream",
     "text": [
      "Finished\n"
     ]
    }
   ],
   "source": [
    "predicted_classes = knn(training, test, 25)\n",
    "print('Finished')"
   ]
  },
  {
   "cell_type": "code",
   "execution_count": 106,
   "metadata": {},
   "outputs": [
    {
     "name": "stdout",
     "output_type": "stream",
     "text": [
      "Accuracy:  0.6956521739130435\n"
     ]
    }
   ],
   "source": [
    "get_accuracy(predicted_classes, test_labels)"
   ]
  },
  {
   "cell_type": "code",
   "execution_count": 113,
   "metadata": {},
   "outputs": [
    {
     "name": "stdout",
     "output_type": "stream",
     "text": [
      "Accuracy:  0.695652173913\n"
     ]
    }
   ],
   "source": [
    "from sklearn.neighbors import KNeighborsClassifier\n",
    "\n",
    "model = KNeighborsClassifier(n_neighbors=25, n_jobs=-1)\n",
    "\n",
    "model.fit(training_set, training_labels)\n",
    "acc = model.score(test_set, test_labels)\n",
    "\n",
    "print(\"Accuracy: \", acc)"
   ]
  },
  {
   "cell_type": "code",
   "execution_count": null,
   "metadata": {
    "collapsed": true
   },
   "outputs": [],
   "source": []
  }
 ],
 "metadata": {
  "kernelspec": {
   "display_name": "Python 3",
   "language": "python",
   "name": "python3"
  },
  "language_info": {
   "codemirror_mode": {
    "name": "ipython",
    "version": 3
   },
   "file_extension": ".py",
   "mimetype": "text/x-python",
   "name": "python",
   "nbconvert_exporter": "python",
   "pygments_lexer": "ipython3",
   "version": "3.6.3"
  }
 },
 "nbformat": 4,
 "nbformat_minor": 2
}
